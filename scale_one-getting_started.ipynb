{
 "cells": [
  {
   "cell_type": "markdown",
   "id": "a89c8a1c-036b-4b10-9280-c2ca93fa7fd4",
   "metadata": {},
   "source": [
    "# Getting started\n",
    "\n",
    "Welcome to the SCALE-I getting started session! \n",
    "\n",
    "This first notebook aims to help you understand how the practical session of the training will take place. Its main purpose is to (very) briefly introduce the framework that will be used during the training to people that may not be accustomed to the tools we are relying on. The practical session are extensively relying on the following tools:\n",
    "- [Python](https://docs.python.org/3/tutorial/introduction.html) language,\n",
    "- [NumPy](https://numpy.org/doc/stable/user/absolute_beginners.html) package\n",
    "\n",
    "People that are not accustomed to these tools are encouraged to read the quick start guides that are pinpointed by the link (since they  will not be covered in details by this notebook). \n",
    "\n"
   ]
  },
  {
   "cell_type": "markdown",
   "id": "77c4c289-2f30-4d6a-8c90-13eb43055389",
   "metadata": {},
   "source": [
    "# Jupyter lab interface TLDR\n",
    "The practical session of the training will be organised as different Python Jupyter notebooks containing one or several exercices related to a specific topic. As you can already see, a notebook acts as a webpage that runs directly into your browser. A notebook is composed of cells, either containing Markdown text (as the one you are currently reading), either composed of Python code. The style of the active cell is depicted at the top-left of the page, as circled in red in the following page header screenshot ![here](img/getting_started_header.png). \n",
    "\n",
    "Both kind of cells can be edited as you want, however, you are not expected to modify Markdown cells during this training (their solely purpose is to guide you during the sessions and you do not want to erase useful information they may embed). On the contrary, you will be asked to implement missing parts of Python functions that will be embedded in `Code` style cells. Let's dig a bit more on what can be done with such cells. All the Python cells can be seen as independent pieces of Python code that can be run independently, while being in the same running environment. \n",
    "\n",
    "The following cell contains the most famous example when you start to learn a new language. You can run the code embedded into the cells by clicking the 'play' button (circle in green in the header screenshot). Try it yourself! "
   ]
  },
  {
   "cell_type": "code",
   "execution_count": null,
   "id": "37ee6b71-93aa-4f83-905b-b3b4ec8c1883",
   "metadata": {},
   "outputs": [],
   "source": [
    "# Simple 'Hello world' example\n",
    "print(\"Hello world!\")"
   ]
  },
  {
   "cell_type": "markdown",
   "id": "4669f7d1-5c6c-4adc-9dd7-31d4d614bf65",
   "metadata": {},
   "source": [
    "As you can see, the standard output is displayed below the cell that is run. Try to modify the cell in order to display another message! \n",
    "Besides writing arbitrary Python3 code, you can split you code in multiple cells if you desire. As an example, the two following cells have different puprose:\n",
    "- the first one defines a function,\n",
    "- the second one uses the function defined in the first one\n",
    "\n",
    "  Try to run these cells sequentially and see what happens! "
   ]
  },
  {
   "cell_type": "code",
   "execution_count": null,
   "id": "4561223b-0fdf-4547-ac88-f2e905fb9290",
   "metadata": {},
   "outputs": [],
   "source": [
    "# First cell that defines a simple function \n",
    "def add(a, b):\n",
    "    return a+b"
   ]
  },
  {
   "cell_type": "code",
   "execution_count": null,
   "id": "b20c9121-444f-45f7-83ce-489325c5798e",
   "metadata": {},
   "outputs": [],
   "source": [
    "# Second cell that uses the function `add` defined in the cell above\n",
    "print(f\"Using the function: {add(1, 2)=}\")"
   ]
  },
  {
   "cell_type": "markdown",
   "id": "738b121e-e928-4c96-9484-9d3e4b94a2a8",
   "metadata": {},
   "source": [
    "As in other Python script, you can import module, either installed with a specific package in your environment, either from another Python file. This is done with the `import` statement. As an example, the following piece of code try to run a test embedded into utilitaries of the training. Running the cell is expected to work flawlessly if you followed the installation procedure properly."
   ]
  },
  {
   "cell_type": "code",
   "execution_count": null,
   "id": "ff5f5528-1666-42c4-a5a9-a402fe7bdb69",
   "metadata": {},
   "outputs": [],
   "source": [
    "import time \n",
    "# Import the function `print_install_success` from the file `./utils_scale/test_scale.py`\n",
    "from utils_scale.test_scale import print_install_success\n",
    "\n",
    "t0 = time.time()\n",
    "print_install_success()\n",
    "t1 = time.time()\n",
    "\n",
    "print(\"Elapsed time:{} [seconds]\".format(t1-t0))"
   ]
  },
  {
   "cell_type": "markdown",
   "id": "316373a2-0a2b-4c8b-a4e8-bfbd34dc0811",
   "metadata": {},
   "source": [
    "Sometimes, you may want to stop the execution of your code. For that, you can use the 'Interrupt the kernel' ('stop' button in the page header, circled in blue in the screenshot) during an execution. The following piece of code run indefinitely due to a infinite loop. Try to run it and kill its execution. Note that this feature is very usefull in the context of a unexpected time consuming execution: since a single cell can be run at a time, being able to kill the ongoing process can speed up your debug time! "
   ]
  },
  {
   "cell_type": "code",
   "execution_count": null,
   "id": "1ac38663-e727-4d70-b9b0-25650c2d24b3",
   "metadata": {},
   "outputs": [],
   "source": [
    "total_seconds = 0\n",
    "# Infinite loop\n",
    "while True:\n",
    "    # Wait a second\n",
    "    time.sleep(1)\n",
    "    # Update the seconds counter\n",
    "    total_seconds += 1\n",
    "    # Print the elapsed time\n",
    "    print(f\"Elapsed time: {total_seconds} second(s)\")"
   ]
  },
  {
   "cell_type": "code",
   "execution_count": null,
   "id": "44c0eddb-1229-4772-8193-1c5b5ecf209d",
   "metadata": {},
   "outputs": [],
   "source": []
  }
 ],
 "metadata": {
  "kernelspec": {
   "display_name": "Python 3 (ipykernel)",
   "language": "python",
   "name": "python3"
  },
  "language_info": {
   "codemirror_mode": {
    "name": "ipython",
    "version": 3
   },
   "file_extension": ".py",
   "mimetype": "text/x-python",
   "name": "python",
   "nbconvert_exporter": "python",
   "pygments_lexer": "ipython3",
   "version": "3.12.3"
  }
 },
 "nbformat": 4,
 "nbformat_minor": 5
}
